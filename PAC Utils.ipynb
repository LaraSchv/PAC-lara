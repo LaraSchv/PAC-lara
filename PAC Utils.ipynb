{
 "cells": [
  {
   "cell_type": "code",
   "execution_count": 11,
   "metadata": {
    "executionInfo": {
     "elapsed": 5,
     "status": "ok",
     "timestamp": 1662219027230,
     "user": {
      "displayName": "Leonard Ehrhorn",
      "userId": "15211178401272589181"
     },
     "user_tz": 180
    },
    "id": "kgZyDOqvKRR1"
   },
   "outputs": [],
   "source": [
    "import unidecode\n",
    "import pandas as pd\n",
    "pd.set_option('display.max_columns', None)\n",
    "from datetime import datetime\n",
    "from datetime import timedelta"
   ]
  },
  {
   "cell_type": "code",
   "execution_count": 12,
   "metadata": {
    "executionInfo": {
     "elapsed": 258,
     "status": "ok",
     "timestamp": 1662219028455,
     "user": {
      "displayName": "Leonard Ehrhorn",
      "userId": "15211178401272589181"
     },
     "user_tz": 180
    },
    "id": "v9zPO0I-LFWr"
   },
   "outputs": [],
   "source": [
    "from matplotlib import pyplot as plt"
   ]
  },
  {
   "cell_type": "code",
   "execution_count": 13,
   "metadata": {},
   "outputs": [],
   "source": [
    "from configs import (lista_columnas_fijas, \n",
    "                     lista_nombres_nuevos, \n",
    "                     dict_nombres_nuevos, \n",
    "                     lista_columnas_necesarias, \n",
    "                     barrios)"
   ]
  },
  {
   "cell_type": "markdown",
   "metadata": {},
   "source": [
    "## Funciones para crear tabla base"
   ]
  },
  {
   "cell_type": "code",
   "execution_count": 14,
   "metadata": {
    "executionInfo": {
     "elapsed": 273,
     "status": "ok",
     "timestamp": 1662219722551,
     "user": {
      "displayName": "Leonard Ehrhorn",
      "userId": "15211178401272589181"
     },
     "user_tz": 180
    },
    "id": "D1WZKmNHefIM"
   },
   "outputs": [],
   "source": [
    "def crear_diccionario_nombres_nuevos(df):\n",
    "    \n",
    "    nombres_nuevos = {}\n",
    "    \n",
    "    lista_nombres_viejos = list(df.columns)\n",
    "    for nombre_viejo in lista_nombres_viejos:\n",
    "        \n",
    "        # limpiamos columnas del df (lowercase, acentos y emojis)\n",
    "        nombre_viejo_limpio = unidecode.unidecode(nombre_viejo.lower())\n",
    "        \n",
    "        # si tiene combo lo deja igual\n",
    "        if ('combo' in nombre_viejo_limpio) or ('bolson' in nombre_viejo_limpio):\n",
    "            for key, value in dict_nombres_nuevos.items():\n",
    "                if key in nombre_viejo_limpio:\n",
    "                    nombres_nuevos[nombre_viejo] = value\n",
    "        else:\n",
    "            for nombre_nuevo in lista_nombres_nuevos:\n",
    "                # si encuentra un substring en nombres nuevos que matchee se lo asigna\n",
    "                if nombre_nuevo in nombre_viejo_limpio and not 'budin' in nombre_viejo_limpio:\n",
    "                    nombres_nuevos[nombre_viejo] = nombre_nuevo\n",
    "            \n",
    "    return nombres_nuevos "
   ]
  },
  {
   "cell_type": "code",
   "execution_count": 15,
   "metadata": {
    "executionInfo": {
     "elapsed": 3,
     "status": "ok",
     "timestamp": 1662219072110,
     "user": {
      "displayName": "Leonard Ehrhorn",
      "userId": "15211178401272589181"
     },
     "user_tz": 180
    },
    "id": "H42zpLjDxPYO"
   },
   "outputs": [],
   "source": [
    "def sabado_posterior(fecha):\n",
    "    sabado = fecha\n",
    "    while(sabado.weekday() != 5):\n",
    "        sabado = sabado + timedelta(days = 1)\n",
    "    return sabado\n",
    "\n",
    "cortar_fecha = lambda fecha_hora: fecha_hora.split(' ')[0]\n",
    "\n",
    "def agregar_fecha_entrega(df):\n",
    "    df['marca temporal'] = df['marca temporal'].apply(cortar_fecha)\n",
    "    df['marca temporal'] = pd.to_datetime(df['marca temporal'],format='%Y/%m/%d')\n",
    "    df['fechas entrega'] = df['marca temporal'].apply(sabado_posterior)\n",
    "    return df"
   ]
  },
  {
   "cell_type": "code",
   "execution_count": 16,
   "metadata": {},
   "outputs": [],
   "source": [
    "def limpiar_barrios(retirar):\n",
    "    \n",
    "    for barrio in barrios:\n",
    "        if barrio in str(retirar):\n",
    "            return barrio\n",
    "    \n",
    "    return retirar"
   ]
  },
  {
   "cell_type": "code",
   "execution_count": 17,
   "metadata": {
    "id": "eRB4VsoQ7RYG"
   },
   "outputs": [],
   "source": [
    "def crear_tabla_base(df):\n",
    "    # rellena nans con 0\n",
    "    df_filtrado = df.copy().fillna(0)\n",
    "    \n",
    "    # cambia los nombres de las columnas\n",
    "    df_filtrado.rename(columns=crear_diccionario_nombres_nuevos(df), inplace=True)\n",
    "\n",
    "    # filtra columnas con las que trabajar\n",
    "    df_filtrado = df_filtrado[lista_columnas_necesarias]\n",
    "    \n",
    "    # agrega fecha de entrega segun fecha de pedido\n",
    "    df_filtrado = agregar_fecha_entrega(df_filtrado)\n",
    "    \n",
    "    # limpia columna retirar\n",
    "    df_filtrado['retirar'] = df_filtrado['retirar'].apply(limpiar_barrios)\n",
    "    return df_filtrado "
   ]
  },
  {
   "cell_type": "code",
   "execution_count": 18,
   "metadata": {},
   "outputs": [
    {
     "data": {
      "text/html": [
       "<div>\n",
       "<style scoped>\n",
       "    .dataframe tbody tr th:only-of-type {\n",
       "        vertical-align: middle;\n",
       "    }\n",
       "\n",
       "    .dataframe tbody tr th {\n",
       "        vertical-align: top;\n",
       "    }\n",
       "\n",
       "    .dataframe thead th {\n",
       "        text-align: right;\n",
       "    }\n",
       "</style>\n",
       "<table border=\"1\" class=\"dataframe\">\n",
       "  <thead>\n",
       "    <tr style=\"text-align: right;\">\n",
       "      <th></th>\n",
       "      <th>marca temporal</th>\n",
       "      <th>nombre de usuario</th>\n",
       "      <th>retirar</th>\n",
       "      <th>choclo</th>\n",
       "      <th>palta</th>\n",
       "      <th>tomate perita</th>\n",
       "      <th>morron verde</th>\n",
       "      <th>uva</th>\n",
       "      <th>berenjena agroecologica</th>\n",
       "      <th>ajo</th>\n",
       "      <th>ciruela</th>\n",
       "      <th>manzana roja</th>\n",
       "      <th>limon</th>\n",
       "      <th>pera</th>\n",
       "      <th>naranja</th>\n",
       "      <th>naranja</th>\n",
       "      <th>durazno</th>\n",
       "      <th>morron rojo</th>\n",
       "      <th>zapallito redondo</th>\n",
       "      <th>tomate cherry</th>\n",
       "      <th>mandarina</th>\n",
       "      <th>frutillas</th>\n",
       "      <th>banana</th>\n",
       "      <th>mango</th>\n",
       "      <th>arandanos</th>\n",
       "      <th>jengibre</th>\n",
       "      <th>bolson de verdes</th>\n",
       "      <th>bolson de pesadas</th>\n",
       "      <th>combo bolson verdes pesadas</th>\n",
       "      <th>bolson citricos</th>\n",
       "      <th>fechas entrega</th>\n",
       "    </tr>\n",
       "  </thead>\n",
       "  <tbody>\n",
       "    <tr>\n",
       "      <th>0</th>\n",
       "      <td>2021-03-28</td>\n",
       "      <td>0</td>\n",
       "      <td>Palermo</td>\n",
       "      <td>0.0</td>\n",
       "      <td>0.0</td>\n",
       "      <td>0.0</td>\n",
       "      <td>0.0</td>\n",
       "      <td>0.0</td>\n",
       "      <td>0.0</td>\n",
       "      <td>0.0</td>\n",
       "      <td>0.0</td>\n",
       "      <td>0.0</td>\n",
       "      <td>0.0</td>\n",
       "      <td>0.0</td>\n",
       "      <td>0.0</td>\n",
       "      <td>0.0</td>\n",
       "      <td>0.0</td>\n",
       "      <td>0.0</td>\n",
       "      <td>0.0</td>\n",
       "      <td>0.0</td>\n",
       "      <td>0.0</td>\n",
       "      <td>0.0</td>\n",
       "      <td>0.0</td>\n",
       "      <td>0.0</td>\n",
       "      <td>0.0</td>\n",
       "      <td>0.0</td>\n",
       "      <td>1.0</td>\n",
       "      <td>1.0</td>\n",
       "      <td>0.0</td>\n",
       "      <td>0.0</td>\n",
       "      <td>2021-04-03</td>\n",
       "    </tr>\n",
       "    <tr>\n",
       "      <th>1</th>\n",
       "      <td>2021-03-28</td>\n",
       "      <td>1</td>\n",
       "      <td>Palermo</td>\n",
       "      <td>0.0</td>\n",
       "      <td>1.0</td>\n",
       "      <td>0.0</td>\n",
       "      <td>0.0</td>\n",
       "      <td>0.0</td>\n",
       "      <td>0.0</td>\n",
       "      <td>0.0</td>\n",
       "      <td>0.0</td>\n",
       "      <td>0.0</td>\n",
       "      <td>0.0</td>\n",
       "      <td>0.0</td>\n",
       "      <td>0.0</td>\n",
       "      <td>0.0</td>\n",
       "      <td>0.0</td>\n",
       "      <td>0.0</td>\n",
       "      <td>0.0</td>\n",
       "      <td>0.0</td>\n",
       "      <td>0.0</td>\n",
       "      <td>0.0</td>\n",
       "      <td>0.0</td>\n",
       "      <td>0.0</td>\n",
       "      <td>0.0</td>\n",
       "      <td>0.0</td>\n",
       "      <td>1.0</td>\n",
       "      <td>1.0</td>\n",
       "      <td>0.0</td>\n",
       "      <td>0.0</td>\n",
       "      <td>2021-04-03</td>\n",
       "    </tr>\n",
       "    <tr>\n",
       "      <th>2</th>\n",
       "      <td>2021-03-28</td>\n",
       "      <td>2</td>\n",
       "      <td>Villa Urquiza</td>\n",
       "      <td>0.0</td>\n",
       "      <td>1.0</td>\n",
       "      <td>0.0</td>\n",
       "      <td>0.0</td>\n",
       "      <td>0.0</td>\n",
       "      <td>0.0</td>\n",
       "      <td>0.0</td>\n",
       "      <td>0.0</td>\n",
       "      <td>0.0</td>\n",
       "      <td>0.0</td>\n",
       "      <td>0.0</td>\n",
       "      <td>0.0</td>\n",
       "      <td>0.0</td>\n",
       "      <td>1.0</td>\n",
       "      <td>0.0</td>\n",
       "      <td>0.0</td>\n",
       "      <td>0.0</td>\n",
       "      <td>0.0</td>\n",
       "      <td>0.0</td>\n",
       "      <td>0.0</td>\n",
       "      <td>0.0</td>\n",
       "      <td>0.0</td>\n",
       "      <td>0.0</td>\n",
       "      <td>1.0</td>\n",
       "      <td>1.0</td>\n",
       "      <td>0.0</td>\n",
       "      <td>0.0</td>\n",
       "      <td>2021-04-03</td>\n",
       "    </tr>\n",
       "    <tr>\n",
       "      <th>3</th>\n",
       "      <td>2021-03-28</td>\n",
       "      <td>3</td>\n",
       "      <td>Palermo</td>\n",
       "      <td>0.0</td>\n",
       "      <td>1.0</td>\n",
       "      <td>0.0</td>\n",
       "      <td>0.0</td>\n",
       "      <td>0.0</td>\n",
       "      <td>0.0</td>\n",
       "      <td>0.0</td>\n",
       "      <td>0.0</td>\n",
       "      <td>0.0</td>\n",
       "      <td>1.0</td>\n",
       "      <td>0.0</td>\n",
       "      <td>0.0</td>\n",
       "      <td>0.0</td>\n",
       "      <td>0.0</td>\n",
       "      <td>0.0</td>\n",
       "      <td>0.0</td>\n",
       "      <td>0.0</td>\n",
       "      <td>0.0</td>\n",
       "      <td>0.0</td>\n",
       "      <td>0.0</td>\n",
       "      <td>0.0</td>\n",
       "      <td>0.0</td>\n",
       "      <td>0.0</td>\n",
       "      <td>2.0</td>\n",
       "      <td>1.0</td>\n",
       "      <td>0.0</td>\n",
       "      <td>0.0</td>\n",
       "      <td>2021-04-03</td>\n",
       "    </tr>\n",
       "    <tr>\n",
       "      <th>4</th>\n",
       "      <td>2021-03-28</td>\n",
       "      <td>4</td>\n",
       "      <td>Palermo</td>\n",
       "      <td>0.0</td>\n",
       "      <td>0.0</td>\n",
       "      <td>0.0</td>\n",
       "      <td>0.0</td>\n",
       "      <td>0.0</td>\n",
       "      <td>0.0</td>\n",
       "      <td>0.0</td>\n",
       "      <td>0.0</td>\n",
       "      <td>0.0</td>\n",
       "      <td>0.0</td>\n",
       "      <td>0.0</td>\n",
       "      <td>0.0</td>\n",
       "      <td>0.0</td>\n",
       "      <td>1.0</td>\n",
       "      <td>0.0</td>\n",
       "      <td>0.0</td>\n",
       "      <td>0.0</td>\n",
       "      <td>0.0</td>\n",
       "      <td>0.0</td>\n",
       "      <td>0.0</td>\n",
       "      <td>0.0</td>\n",
       "      <td>0.0</td>\n",
       "      <td>0.0</td>\n",
       "      <td>1.0</td>\n",
       "      <td>1.0</td>\n",
       "      <td>0.0</td>\n",
       "      <td>0.0</td>\n",
       "      <td>2021-04-03</td>\n",
       "    </tr>\n",
       "  </tbody>\n",
       "</table>\n",
       "</div>"
      ],
      "text/plain": [
       "  marca temporal  nombre de usuario        retirar  choclo  palta  \\\n",
       "0     2021-03-28                  0        Palermo     0.0    0.0   \n",
       "1     2021-03-28                  1        Palermo     0.0    1.0   \n",
       "2     2021-03-28                  2  Villa Urquiza     0.0    1.0   \n",
       "3     2021-03-28                  3        Palermo     0.0    1.0   \n",
       "4     2021-03-28                  4        Palermo     0.0    0.0   \n",
       "\n",
       "   tomate perita  morron verde  uva  berenjena agroecologica  ajo  ciruela  \\\n",
       "0            0.0           0.0  0.0                      0.0  0.0      0.0   \n",
       "1            0.0           0.0  0.0                      0.0  0.0      0.0   \n",
       "2            0.0           0.0  0.0                      0.0  0.0      0.0   \n",
       "3            0.0           0.0  0.0                      0.0  0.0      0.0   \n",
       "4            0.0           0.0  0.0                      0.0  0.0      0.0   \n",
       "\n",
       "   manzana roja  limon  pera  naranja  naranja  durazno  morron rojo  \\\n",
       "0           0.0    0.0   0.0      0.0      0.0      0.0          0.0   \n",
       "1           0.0    0.0   0.0      0.0      0.0      0.0          0.0   \n",
       "2           0.0    0.0   0.0      0.0      0.0      1.0          0.0   \n",
       "3           0.0    1.0   0.0      0.0      0.0      0.0          0.0   \n",
       "4           0.0    0.0   0.0      0.0      0.0      1.0          0.0   \n",
       "\n",
       "   zapallito redondo  tomate cherry  mandarina  frutillas  banana  mango  \\\n",
       "0                0.0            0.0        0.0        0.0     0.0    0.0   \n",
       "1                0.0            0.0        0.0        0.0     0.0    0.0   \n",
       "2                0.0            0.0        0.0        0.0     0.0    0.0   \n",
       "3                0.0            0.0        0.0        0.0     0.0    0.0   \n",
       "4                0.0            0.0        0.0        0.0     0.0    0.0   \n",
       "\n",
       "   arandanos  jengibre  bolson de verdes  bolson de pesadas  \\\n",
       "0        0.0       0.0               1.0                1.0   \n",
       "1        0.0       0.0               1.0                1.0   \n",
       "2        0.0       0.0               1.0                1.0   \n",
       "3        0.0       0.0               2.0                1.0   \n",
       "4        0.0       0.0               1.0                1.0   \n",
       "\n",
       "   combo bolson verdes pesadas  bolson citricos fechas entrega  \n",
       "0                          0.0              0.0     2021-04-03  \n",
       "1                          0.0              0.0     2021-04-03  \n",
       "2                          0.0              0.0     2021-04-03  \n",
       "3                          0.0              0.0     2021-04-03  \n",
       "4                          0.0              0.0     2021-04-03  "
      ]
     },
     "execution_count": 18,
     "metadata": {},
     "output_type": "execute_result"
    }
   ],
   "source": [
    "df_original = pd.read_csv('2022_anonimize.csv')\n",
    "\n",
    "df = crear_tabla_base(df_original)\n",
    "df.head()"
   ]
  },
  {
   "cell_type": "markdown",
   "metadata": {},
   "source": [
    "# Logica de filtrado"
   ]
  },
  {
   "cell_type": "code",
   "execution_count": 38,
   "metadata": {},
   "outputs": [],
   "source": [
    "def aplicar_filtros(df, fecha=None, fecha_inicial=None, fecha_final=None, productos=None, barrios=None):\n",
    "    df_filtrado = df.copy()\n",
    "    \n",
    "    if fecha:\n",
    "        if fecha_inicial and fecha_final:\n",
    "            print('Esta mal usada la funcion de filtros (escribir solo fecha, o solo fecha inicial y fecha final)')\n",
    "        else:\n",
    "            fecha_inicial = fecha\n",
    "            fecha_final = fecha\n",
    "    if fecha_inicial and fecha_final:\n",
    "        df_filtrado = df_filtrado[(df_filtrado['fechas entrega'] >= fecha_inicial) &\n",
    "                                  (df_filtrado['fechas entrega'] <= fecha_final)]\n",
    "    if productos:\n",
    "        df_filtrado = df_filtrado[productos+lista_columnas_fijas]\n",
    "    if barrios:\n",
    "        df_filtrado = df_filtrado[df_filtrado['retirar'].isin(barrios)]\n",
    "        \n",
    "    return df_filtrado"
   ]
  },
  {
   "cell_type": "code",
   "execution_count": null,
   "metadata": {},
   "outputs": [],
   "source": [
    "# filtrar pedidos unicos\n",
    "df_cant_pedidos = df[['nombre de usuario', 'fechas entrega']].groupby(by=['nombre de usuario']).count()\n",
    "df_cant_pedidos = df_cant_pedidos.reset_index()\n",
    "usuarios_pedido_unico = df_cant_pedidos[df_cant_pedidos['fechas entrega'] == 1]['nombre de usuario'].tolist()\n",
    "\n",
    "df[df['nombre de usuario'].isin(usuarios_pedido_unico)]"
   ]
  },
  {
   "cell_type": "markdown",
   "metadata": {},
   "source": [
    "### Planificación de los gráficos para implementar:\n",
    "#### Para una sola fecha de entrega:\n",
    "1. Lista de productos, seccionada por lista de casas populares (gráfico de barras)\n",
    "2. Cantidad de pedidos totales por casa popular (gráfico de barras)\n",
    "\n",
    "#### Para un rango de fechas de entrega:\n",
    "3. Un solo producto, pedidos seccionados por casas populares (gráfico de barras seccionadas) \n",
    "4. Cantidad de pedidos totales por casa popular (gráfico de barras seccionadas)\n",
    "5. Lista de productos (gráfico de líneas)\n",
    "6. Cantidad de pedidos únicos por casa popular (scatter de colores)\n",
    "\n",
    "#### Pedidos únicos:\n",
    "7. Cantidad de pedidos únicos totales por casa popular (gráfico de torta)\n"
   ]
  },
  {
   "cell_type": "markdown",
   "metadata": {},
   "source": [
    "**Obs**: para todo filtro tenemos que darle al usuario un conjunto de parametros validos"
   ]
  },
  {
   "cell_type": "code",
   "execution_count": 43,
   "metadata": {},
   "outputs": [],
   "source": [
    "## grafico 1\n",
    "\n",
    "fecha = '2021-04-03'\n",
    "productos = ['bolson de verdes','bolson de pesadas','combo bolson verdes pesadas','mandarina','frutillas','banana']\n",
    "barrios = ['Palermo', 'Villa Urquiza']\n",
    "\n",
    "df_filtrado = aplicar_filtros(df, fecha=fecha, productos=productos, barrios=barrios)\n"
   ]
  },
  {
   "cell_type": "markdown",
   "metadata": {},
   "source": [
    "https://plotly.com/python/bar-charts/"
   ]
  },
  {
   "cell_type": "code",
   "execution_count": null,
   "metadata": {},
   "outputs": [],
   "source": []
  }
 ],
 "metadata": {
  "colab": {
   "authorship_tag": "ABX9TyN38z6sVQ3+j3ZwkfuClESt",
   "collapsed_sections": [],
   "provenance": []
  },
  "kernelspec": {
   "display_name": "Python 3 (ipykernel)",
   "language": "python",
   "name": "python3"
  },
  "language_info": {
   "codemirror_mode": {
    "name": "ipython",
    "version": 3
   },
   "file_extension": ".py",
   "mimetype": "text/x-python",
   "name": "python",
   "nbconvert_exporter": "python",
   "pygments_lexer": "ipython3",
   "version": "3.9.13"
  },
  "vscode": {
   "interpreter": {
    "hash": "3c878911acde69e430db5f3ac0c7c57c65052375169f8c16c352519f943d0a0e"
   }
  }
 },
 "nbformat": 4,
 "nbformat_minor": 1
}
